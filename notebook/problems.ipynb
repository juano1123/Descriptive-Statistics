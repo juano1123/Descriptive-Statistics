{
    "cells": [
        {
            "cell_type": "markdown",
            "id": "ac622319",
            "metadata": {},
            "source": [
                "# Descriptive Statistics Problems"
            ]
        },
        {
            "cell_type": "markdown",
            "id": "aa8993e4",
            "metadata": {},
            "source": [
                "### Exercise 1"
            ]
        },
        {
            "cell_type": "markdown",
            "id": "5e0ab0d5",
            "metadata": {},
            "source": [
                "As right now, you are familliar with numpy, we are going to use numpy to get some data statistics.\n",
                "\n",
                "First, lets create an array of 20 elements distributed normally (Gaussian):\n",
                "\n",
                "Use the np.random.normal function to create some data, using 0,1,20 as parameters because we want a one dimentional array of 20 numbers distributed normally (Gaussian)"
            ]
        },
        {
            "cell_type": "code",
            "execution_count": 2,
            "id": "34720ab6",
            "metadata": {},
            "outputs": [
                {
                    "data": {
                        "text/plain": [
                            "array([ 0.22827309,  1.0268903 , -0.83958485, -0.59118152, -0.9568883 ,\n",
                            "       -0.22232569, -0.61991511,  1.83790458, -2.05323076,  0.86858305,\n",
                            "       -0.92073444, -0.23231186,  2.1529569 , -1.33466147,  0.07637965,\n",
                            "       -1.24608928,  1.20227231, -1.04994158,  1.05661011, -0.41967767])"
                        ]
                    },
                    "execution_count": 2,
                    "metadata": {},
                    "output_type": "execute_result"
                }
            ],
            "source": [
                "#import libraries\n",
                "import numpy as np\n",
                "import matplotlib.pyplot as plt\n",
                "\n",
                "# Set seed in order to get similar results\n",
                "np.random.seed(25)\n",
                "\n",
                "# create the data\n",
                "data = np.random.normal(0,1,20)\n",
                "\n",
                "\n",
                "#print results\n",
                "data"
            ]
        },
        {
            "cell_type": "code",
            "execution_count": 3,
            "id": "49c55822",
            "metadata": {},
            "outputs": [
                {
                    "data": {
                        "text/plain": [
                            "-0.10183362702065617"
                        ]
                    },
                    "execution_count": 3,
                    "metadata": {},
                    "output_type": "execute_result"
                }
            ],
            "source": [
                "#Use numpy to get the mean of your data\n",
                "data.mean()"
            ]
        },
        {
            "cell_type": "code",
            "execution_count": 6,
            "id": "03529459",
            "metadata": {},
            "outputs": [
                {
                    "data": {
                        "text/plain": [
                            "1.218414090055802"
                        ]
                    },
                    "execution_count": 6,
                    "metadata": {},
                    "output_type": "execute_result"
                }
            ],
            "source": [
                "#get the variance of your data\n",
                "data.var()"
            ]
        },
        {
            "cell_type": "code",
            "execution_count": 5,
            "id": "e53f30c5",
            "metadata": {},
            "outputs": [
                {
                    "data": {
                        "text/plain": [
                            "1.1038179605604368"
                        ]
                    },
                    "execution_count": 5,
                    "metadata": {},
                    "output_type": "execute_result"
                }
            ],
            "source": [
                "# Standard deviation\n",
                "data.std()"
            ]
        },
        {
            "cell_type": "code",
            "execution_count": 9,
            "id": "9bce852f",
            "metadata": {},
            "outputs": [
                {
                    "data": {
                        "text/plain": [
                            "array([-2.05323076])"
                        ]
                    },
                    "execution_count": 9,
                    "metadata": {},
                    "output_type": "execute_result"
                }
            ],
            "source": [
                "#import libraries and print the mode\n",
                "import scipy.stats as stats\n",
                "import statistics as sts\n",
                "dataMode = stats.mode(data)\n",
                "# Mode for continuous array\n",
                "dataMode.mode\n"
            ]
        },
        {
            "cell_type": "code",
            "execution_count": 10,
            "id": "c682cb6e",
            "metadata": {},
            "outputs": [
                {
                    "data": {
                        "text/plain": [
                            "-0.3259947671553432"
                        ]
                    },
                    "execution_count": 10,
                    "metadata": {},
                    "output_type": "execute_result"
                }
            ],
            "source": [
                "# Median\n",
                "sts.median(data)"
            ]
        },
        {
            "cell_type": "code",
            "execution_count": 14,
            "id": "39c3fabd",
            "metadata": {},
            "outputs": [
                {
                    "name": "stdout",
                    "output_type": "stream",
                    "text": [
                        "-0.9297729038408684\n",
                        "-0.3259947671553432\n",
                        "0.9081598644192217\n"
                    ]
                }
            ],
            "source": [
                "# Print the Quantiles\n",
                "q1 = np.quantile(data, 0.25)\n",
                "q2 = np.quantile(data, 0.50)\n",
                "q3 = np.quantile(data, 0.75)\n",
                "print(q1)\n",
                "print(q2)\n",
                "print(q3)\n",
                "# This match with np.median, why?\n",
                "# Porque q2 es igual a la mediana, que es igual al percentil 50\n"
            ]
        },
        {
            "cell_type": "markdown",
            "id": "46c70c3d",
            "metadata": {},
            "source": [
                "### Exercise 2\n",
                "\n",
                "Write a Python program to calculate the standard deviation of the following data:\n",
                "```py\n",
                "data = [4, 2, 5, 8, 6]\n",
                "```"
            ]
        },
        {
            "cell_type": "code",
            "execution_count": 40,
            "id": "d590308e",
            "metadata": {},
            "outputs": [
                {
                    "name": "stdout",
                    "output_type": "stream",
                    "text": [
                        "[4, 2, 5, 8, 6]\n",
                        "2.23606797749979\n"
                    ]
                }
            ],
            "source": [
                "import math\n",
                "import sys\n",
                "\n",
                "# Define the standard deviation function\n",
                "\n",
                "def sd_calc(data):\n",
                "    #code here\n",
                "    nElementos = len(data)\n",
                "    nMedia = avg_calc(data)\n",
                "    sumatoria = 0\n",
                "    for i in data:\n",
                "        sumatoria += (float(i) - nMedia) ** 2\n",
                "    # calculate stan. dev.\n",
                "    return math.sqrt(sumatoria / float(nElementos-1))\n",
                "\n",
                "# Define the average function\n",
                "def avg_calc(ls):\n",
                "    #code here\n",
                "    nElementos = len(data)\n",
                "    sumatoria = 0\n",
                "    for i in ls:\n",
                "        sumatoria += float(i)\n",
                "    # calculate average  \n",
                "    return sumatoria / nElementos\n",
                "\n",
                "data = [4, 2, 5, 8, 6]\n",
                "#print the data\n",
                "print(data)\n",
                "#print the standard deviation of the data\n",
                "print(sd_calc(data))"
            ]
        },
        {
            "cell_type": "markdown",
            "id": "04b71791",
            "metadata": {},
            "source": [
                "Source:\n",
                "\n",
                "https://www.w3resource.com/"
            ]
        }
    ],
    "metadata": {
        "kernelspec": {
            "display_name": "Python 3.8.13 64-bit ('3.8.13')",
            "language": "python",
            "name": "python3"
        },
        "language_info": {
            "codemirror_mode": {
                "name": "ipython",
                "version": 3
            },
            "file_extension": ".py",
            "mimetype": "text/x-python",
            "name": "python",
            "nbconvert_exporter": "python",
            "pygments_lexer": "ipython3",
            "version": "3.8.13"
        },
        "vscode": {
            "interpreter": {
                "hash": "110cc1dee26208153f2972f08a2ad52b6a56238dc66d48e87fb757ef2996db56"
            }
        }
    },
    "nbformat": 4,
    "nbformat_minor": 5
}
